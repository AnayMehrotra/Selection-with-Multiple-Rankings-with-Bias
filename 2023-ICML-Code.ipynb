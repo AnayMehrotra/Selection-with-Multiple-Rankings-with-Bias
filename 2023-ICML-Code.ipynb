{
 "cells": [
  {
   "cell_type": "code",
   "execution_count": null,
   "id": "a27ac216",
   "metadata": {
    "code_folding": []
   },
   "outputs": [],
   "source": [
    "import time\n",
    "import copy\n",
    "import random\n",
    "import numpy as np\n",
    "import itertools\n",
    "\n",
    "\n",
    "import matplotlib.pyplot as plt\n",
    "from matplotlib import rc, rcParams\n",
    "import datetime\n",
    "import string\n",
    "\n",
    "home_folder = './figures'\n",
    "\n",
    "from tqdm import tqdm\n",
    "import mapel.elections as mapel "
   ]
  },
  {
   "cell_type": "code",
   "execution_count": null,
   "id": "411d15a5",
   "metadata": {
    "code_folding": []
   },
   "outputs": [],
   "source": [
    "# Helper functions\n",
    "rcParams.update({\n",
    "        'text.usetex': False,\n",
    "        'font.family': 'stixgeneral',\n",
    "        'mathtext.fontset': 'stix',\n",
    "        'figure.figsize': (10,6),\n",
    "})\n",
    "\n",
    "def file_str():\n",
    "    \"\"\" Auto-generates file name.\"\"\"\n",
    "    now = datetime.datetime.now()\n",
    "    return now.strftime(\"H%HM%MS%S_%m-%d-%y\")\n",
    "\n",
    "rand_string = lambda length: ''.join(random.choice(string.ascii_lowercase) for i in range(length))\n",
    "\n",
    "def pdf_savefig():\n",
    "    \"\"\" Saves figures as pdf \"\"\"\n",
    "    fname = file_str()+rand_string(5)\n",
    "    plt.savefig(home_folder+f\"/{fname}.pdf\", bbox_inches=\"tight\")\n",
    "\n",
    "def eps_savefig():\n",
    "    \"\"\" Saves figure as encapsulated postscript file (vector format)\n",
    "        so that it isn't pixelated when we put it into a pdf. \"\"\"\n",
    "    pdf_savefig()\n",
    "\n",
    "    \n"
   ]
  },
  {
   "attachments": {},
   "cell_type": "markdown",
   "id": "34ae6237",
   "metadata": {},
   "source": [
    "### Voting rules #######"
   ]
  },
  {
   "cell_type": "code",
   "execution_count": null,
   "id": "1a318e30",
   "metadata": {
    "code_folding": [
     0,
     17
    ]
   },
   "outputs": [],
   "source": [
    "def get_borda_score(election) -> list:\n",
    "    \"\"\" Return: List with all Borda scores \"\"\"\n",
    "    scores = [0 for _ in range(election.num_candidates)]\n",
    "    for vote in election.votes:\n",
    "        for c in range(election.num_candidates):\n",
    "            scores[vote[c]] += c\n",
    "    return np.array(scores)\n",
    "\n",
    "def get_sntv_score(election) -> list:\n",
    "    \"\"\" Return: List with all SNTV scores \"\"\"\n",
    "    sntv = [_ == 0 for _ in range(election.num_candidates)]\n",
    "    scores = [0 for _ in range(election.num_candidates)]\n",
    "    for vote in election.votes:\n",
    "        for c in range(1):\n",
    "            scores[vote[c]] += sntv[c]\n",
    "    return np.array(scores)\n",
    "\n",
    "def get_bloc_score(election, b) -> list:\n",
    "    \"\"\" Return: List with all SNTV scores \"\"\"\n",
    "    bloc = [_ < b for _ in range(election.num_candidates)]\n",
    "    scores = [0 for _ in range(election.num_candidates)]\n",
    "    for vote in election.votes:\n",
    "        for c in range(b):\n",
    "            scores[vote[c]] += bloc[c]\n",
    "    return np.array(scores)\n",
    "\n",
    "\n"
   ]
  },
  {
   "attachments": {},
   "cell_type": "markdown",
   "id": "cd2353b0",
   "metadata": {},
   "source": [
    "### Generative model $\\hat{\\mu}$ given $\\succ\\hspace{2mm} \\sim \\mu$"
   ]
  },
  {
   "cell_type": "code",
   "execution_count": null,
   "id": "396f5e29",
   "metadata": {
    "code_folding": [
     1,
     17
    ]
   },
   "outputs": [],
   "source": [
    "# Bias function (input: election, phi, groups, output: election_hat)\n",
    "def get_swapping_bias(election, phi, g1, g2, t_frac):\n",
    "    \n",
    "    assert phi < 1\n",
    "    \n",
    "    # biased election\n",
    "    election_hat = copy.deepcopy(election)\n",
    "    \n",
    "    # to speed up containment check \n",
    "    set_g1 = set(g1)\n",
    "    set_g2 = set(g2) \n",
    "    \n",
    "    for vote in election_hat.votes: \n",
    "        cnt = 0\n",
    "        maximum_swaps = 0\n",
    "\n",
    "        # compute maximum number of swaps votes\n",
    "        for i in np.arange(election_hat.num_candidates):\n",
    "            if vote[i] in set_g1:\n",
    "                maximum_swaps += cnt\n",
    "            if vote[i] in set_g2:\n",
    "                cnt += 1\n",
    "            \n",
    "        t = int(t_frac * maximum_swaps)\n",
    "        \n",
    "        # Compute positions \n",
    "        pos = [0 for i in range(len(vote))]\n",
    "        for i in range(len(vote)):\n",
    "            pos[vote[i]] = i\n",
    "        \n",
    "        # Vectorize the computation of V\n",
    "        p1 = np.array([pos[i] for i in g1])\n",
    "        p2 = np.array([pos[i] for i in g2])\n",
    "        v1 = phi ** p1\n",
    "        v2 = phi ** (-p2)\n",
    "        \n",
    "        V = np.outer(v1, v2)\n",
    "        V = np.where(V > 1, 0, V)\n",
    "        \n",
    "        for ind in range(t):\n",
    "            # Break if no more swaps possible \n",
    "            if np.sum(V) == 0: break\n",
    "\n",
    "            # Sample the pair swapped \n",
    "            i = random.choices(np.arange(V.shape[0]), k = 1, weights = np.sum(V, axis=1) / np.sum(V))[0] \n",
    "            j = random.choices(np.arange(V.shape[1]), k = 1, weights = V[i, :] / np.sum(V[i, :]))[0] \n",
    "             \n",
    "            # Only do O(n+m) updates to W each step\n",
    "            V[i, :] = np.where(V[i, :] > 1, 0, V[i, :])\n",
    "            V[:, j] = np.where(V[:, j] > 1, 0, V[:, j])\n",
    "            p1[i], p2[j] = p2[j], p1[i]  \n",
    "\n",
    "        # Generate biased votes using p1 and p2\n",
    "        for j in range(len(vote)):\n",
    "            vote[j] = -1\n",
    "        \n",
    "        for ijk, i in enumerate(g1):\n",
    "            vote[p1[ijk]] = i\n",
    "         \n",
    "        for ijk, i in enumerate(g2): \n",
    "            vote[p2[ijk]] = i\n",
    "             \n",
    "    return election_hat"
   ]
  },
  {
   "cell_type": "markdown",
   "id": "222bc4e9",
   "metadata": {},
   "source": [
    "### Metrics functions #######"
   ]
  },
  {
   "cell_type": "code",
   "execution_count": null,
   "id": "b43b3711",
   "metadata": {
    "code_folding": [
     1,
     6
    ]
   },
   "outputs": [],
   "source": [
    "\n",
    "def get_top_k(scores, k) -> list:\n",
    "    #print(f'get_top_k, k={k}, len(scores)={len(scores)}')\n",
    "    assert len(scores) >= k\n",
    "    return np.argsort(-scores)[:k]\n",
    "\n",
    "def get_s_ell(scores, k, l, g1, g2) -> list:\n",
    "    scores_g1 = scores[g1]\n",
    "    scores_g2 = scores[g2]\n",
    "    \n",
    "    cand_g1 = np.argsort(-scores_g1)[:k-l]\n",
    "    cand_g2 = np.argsort(-scores_g2)[:l] \n",
    "    \n",
    "    assert len(g1) >= k-l\n",
    "    assert len(g2) >= l\n",
    "    \n",
    "    cand_g1 = list(g1[cand_g1])\n",
    "    cand_g2 = list(g2[cand_g2])\n",
    "    \n",
    "    return np.array(cand_g1 + cand_g2)\n"
   ]
  },
  {
   "cell_type": "code",
   "execution_count": null,
   "id": "663fa07d",
   "metadata": {
    "code_folding": [
     2,
     11
    ]
   },
   "outputs": [],
   "source": [
    "# Select committee maximizing score and\n",
    "# output the properties of the selected committee\n",
    "def get_committee_score_const(scores_hat, g1, g2, l, k, scores):\n",
    "    if l != -1:\n",
    "        s_ell = get_s_ell(scores_hat, k, l, g1, g2)\n",
    "    else:\n",
    "        s_ell = get_top_k(scores_hat, k) \n",
    "        \n",
    "    assert len(s_ell) == k\n",
    "    return np.sum(scores[s_ell])\n",
    "\n",
    "def get_committee_score_opt(scores_hat, g1, g2, l, k, scores):\n",
    "    s = get_top_k(scores, k)\n",
    "    \n",
    "    assert len(s) == k\n",
    "    return np.sum(scores[s])"
   ]
  },
  {
   "cell_type": "code",
   "execution_count": null,
   "id": "d5e2bd9a",
   "metadata": {
    "code_folding": [
     21,
     23
    ]
   },
   "outputs": [],
   "source": [
    "for i in tqdm(range(50)):\n",
    "    n = 40\n",
    "    m = 40\n",
    "    k = 20\n",
    "    g1 = np.arange(m//2)\n",
    "    g2 = np.arange(m//2) + m//2\n",
    "    election = mapel.generate_election(culture_id = 'impartial_culture', num_candidates=m, num_voters=n)\n",
    "    election_hat = get_swapping_bias(election, 0.01, g1, g2, 0.9)\n",
    "    scores = get_borda_score(election)\n",
    "    scores_hat = get_borda_score(election_hat)\n",
    "    \n",
    "    \n",
    "    \n",
    "    sc = np.sort(-scores)[:k]\n",
    "    assert len(sc) == k\n",
    "\n",
    "    # find the best committees with/without constraint\n",
    "    score_no_const = get_committee_score_const(scores_hat, g1, g2, -1, k, scores)\n",
    "    score_ye_const = get_committee_score_const(scores_hat, g1, g2, k//2, k, scores)\n",
    "    score_opt = get_committee_score_opt(scores, g1, g2, 0, k, scores)\n",
    "    \n",
    "    if score_opt >= score_no_const and  score_opt >= score_ye_const:\n",
    "        continue\n",
    "    else:\n",
    "        print(scores)\n",
    "        print(sorted(scores))\n",
    "        print(f'np.sum(sc)\\t=\\t{-np.sum(sc)}')\n",
    "        print(f'score_opt\\t=\\t{score_opt}')\n",
    "        print(f'score_ye_const\\t=\\t{score_ye_const}')\n",
    "        print(f'score_no_const\\t=\\t{score_no_const}')\n",
    "        print()        \n",
    "        break\n"
   ]
  },
  {
   "cell_type": "markdown",
   "id": "8b591d1a",
   "metadata": {},
   "source": [
    "### Parameters "
   ]
  },
  {
   "cell_type": "code",
   "execution_count": null,
   "id": "5ff6db2a",
   "metadata": {
    "code_folding": []
   },
   "outputs": [],
   "source": [
    "p = 2 \n",
    "k = 10\n",
    "ITER = 40\n",
    " \n",
    "\n",
    "get_election = lambda x, y: mapel.generate_election(culture_id = 'norm-mallows',\\\n",
    "                                                    num_candidates = x,\\\n",
    "                                                    num_voters = y)\n",
    "\n",
    "rules = ['Borda', '10-Bloc', 'SNTV']\n",
    "\n",
    "colors = {}\n",
    "colors['Borda'] = '#377eb8'\n",
    "colors['10-Bloc'] = '#ff7f00'\n",
    "colors['SNTV'] = '#4daf4a'\n",
    "\n",
    "get_score = {}\n",
    "get_score['Borda'] = lambda x: get_borda_score(x)\n",
    "get_score['SNTV'] = lambda x: get_sntv_score(x)\n",
    "get_score['10-Bloc'] = lambda x: get_bloc_score(x, 10)"
   ]
  },
  {
   "cell_type": "markdown",
   "id": "fef1250f",
   "metadata": {},
   "source": [
    "### Run simulation"
   ]
  },
  {
   "cell_type": "code",
   "execution_count": null,
   "id": "0a44a3da",
   "metadata": {
    "code_folding": [
     12
    ],
    "scrolled": true
   },
   "outputs": [],
   "source": [
    "for n, m in itertools.product([25, 50, 100], [50]): \n",
    "    for dist in ['impartial_culture', 'urn', 'mallows', 'norm-mallows', 'conitzer']:\n",
    "        get_election = lambda x, y: mapel.generate_election(culture_id = dist,\\\n",
    "                                                    num_candidates = x,\\\n",
    "                                                    num_voters = y)\n",
    "        lb_list = np.round(np.linspace(0, 1, 10) * min(k, m/2)) \n",
    "\n",
    "        frac_swaps_list = np.linspace(0, 1, 8)\n",
    "\n",
    "        g1 = np.random.choice(np.arange(m), m//2, replace=False)\n",
    "        set_g1 = set(g1)\n",
    "        g2 = []\n",
    "        for i in np.arange(m):\n",
    "            if i not in set_g1:\n",
    "                g2.append(i)\n",
    "        g2 = np.array(g2)\n",
    "        \n",
    "        best_ratio_ye_const = {r: [] for r in rules} \n",
    "        best_ratio_ye_const_std = {r: [] for r in rules} \n",
    "\n",
    "        phi = 0.5\n",
    "\n",
    "        for frac_swaps in tqdm(frac_swaps_list):\n",
    "            for r in rules: # Append best ratio\n",
    "                best_ratio_ye_const[r].append(-1)\n",
    "                best_ratio_ye_const_std[r].append(-1)\n",
    "\n",
    "            for lb in np.arange(0, k+1, 2):\n",
    "                lb = int(lb) \n",
    "\n",
    "                ratio_no_const = {r: [] for r in rules} \n",
    "                ratio_ye_const = {r: [] for r in rules} \n",
    "\n",
    "                for ijk in range(ITER):  \n",
    "                    election = get_election(m, n)\n",
    "                    election_hat = get_swapping_bias(election, phi, g1, g2, frac_swaps)\n",
    "\n",
    "                    for r in rules:\n",
    "                        scores = get_score[r](election) \n",
    "                        scores_hat = get_score[r](election_hat)  \n",
    "\n",
    "                        # find the committees: with constraints and the optimal committee \n",
    "                        score_ye_const = get_committee_score_const(scores_hat, g1, g2, lb, k, scores)\n",
    "                        score_opt = get_committee_score_opt(scores, g1, g2, 0, k, scores)\n",
    "                        \n",
    "                        #print(f'scores={scores}')\n",
    "                        #print(f'score_opt={score_opt}\\tscore_ye_const={score_ye_const}')\n",
    "\n",
    "                        assert(score_opt >= score_ye_const)  \n",
    "                    \n",
    "                        # evaluations \n",
    "                        ratio_ye_const[r].append(score_ye_const / (score_opt + 1e-18))   \n",
    "\n",
    "                ratio_ye_const_mean = {r: [] for r in rules} \n",
    "                ratio_ye_const_std = {r: [] for r in rules} \n",
    "                for r in rules: # Updates to ratio  \n",
    "                    ratio_ye_const_mean[r] = np.mean(ratio_ye_const[r]) \n",
    "                    ratio_ye_const_std[r] = np.std(ratio_ye_const[r]) / np.sqrt(ITER) \n",
    "\n",
    "                    assert(ratio_ye_const_mean[r] <= 1 + 1e-5)\n",
    "\n",
    "                for r in rules: # Updates to best ratio \n",
    "                    if best_ratio_ye_const[r][-1] < ratio_ye_const_mean[r]:\n",
    "                        best_ratio_ye_const_std[r][-1] = ratio_ye_const_std[r]\n",
    "\n",
    "                    best_ratio_ye_const[r][-1] = max(best_ratio_ye_const[r][-1], ratio_ye_const_mean[r]) \n",
    "\n",
    "        ####################################\n",
    "        # PLOT 1\n",
    "        ####################################\n",
    "        plt.title(f'Dist={dist}, n={n}, m={m}, k={k}, Bias-model=Swapping-Bias, ITER={ITER}')\n",
    "        plt.ylabel('${\\\\rm OPT}^{-1} \\cdot \\max_\\ell\\ F(S_\\ell)$', fontsize=26)\n",
    "        plt.xlabel('Fraction of swaps $\\\\lambda$', fontsize=30)\n",
    "        plt.ylim(0.6, 1.01)\n",
    "\n",
    "        for r in rules:\n",
    "            plt.errorbar(frac_swaps_list, best_ratio_ye_const[r], yerr=best_ratio_ye_const_std[r], linewidth = 8, label=r, color=colors[r])\n",
    "\n",
    "        plt.legend(fontsize=30, shadow=False)\n",
    "        plt.tick_params(axis='both', which='major', labelsize=30)\n",
    "        plt.show()\n",
    "        #pdf_savefig()\n",
    "        plt.close()\n",
    "         \n",
    "        ####################################\n",
    "        # PLOT 2\n",
    "        ####################################\n",
    "        plt.title(f'Dist={dist}, n={n}, m={m}, k={k}, Bias-model=Swapping-Bias, ITER={ITER}')\n",
    "        plt.ylabel('${\\\\rm OPT}^{-1} \\cdot \\max_\\ell\\ F(S_\\ell)$', fontsize=26)\n",
    "        plt.xlabel('Fraction of swaps $\\\\lambda$', fontsize=30)\n",
    "        plt.ylim(0.6, 1.01)\n",
    "        \n",
    "        for r in ['Borda', 'SNTV']:\n",
    "            plt.errorbar(frac_swaps_list, best_ratio_ye_const[r], yerr=best_ratio_ye_const_std[r], linewidth = 8, label=r, color=colors[r])\n",
    "\n",
    "        plt.legend(fontsize=26, shadow=False)\n",
    "        plt.tick_params(axis='both', which='major', labelsize=30)\n",
    "        plt.show()\n",
    "        #pdf_savefig()\n",
    "        plt.close()\n"
   ]
  }
 ],
 "metadata": {
  "kernelspec": {
   "display_name": "Python 3",
   "language": "python",
   "name": "python3"
  },
  "language_info": {
   "codemirror_mode": {
    "name": "ipython",
    "version": 3
   },
   "file_extension": ".py",
   "mimetype": "text/x-python",
   "name": "python",
   "nbconvert_exporter": "python",
   "pygments_lexer": "ipython3",
   "version": "3.9.9"
  },
  "vscode": {
   "interpreter": {
    "hash": "aee8b7b246df8f9039afb4144a1f6fd8d2ca17a180786b69acc140d282b71a49"
   }
  }
 },
 "nbformat": 4,
 "nbformat_minor": 5
}
